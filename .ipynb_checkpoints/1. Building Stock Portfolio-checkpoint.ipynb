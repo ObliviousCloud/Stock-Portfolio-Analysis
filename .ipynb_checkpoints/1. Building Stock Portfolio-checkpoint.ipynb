{
 "cells": [
  {
   "cell_type": "code",
   "execution_count": 2,
   "metadata": {},
   "outputs": [],
   "source": [
    "import quandl\n",
    "quandl.ApiConfig.api_key = 'K9susGNjQFiUDi6Yitwp'\n",
    "import numpy as np\n",
    "import pandas as pd"
   ]
  },
  {
   "cell_type": "code",
   "execution_count": 3,
   "metadata": {},
   "outputs": [],
   "source": [
    "prices = quandl.get_table('SHARADAR/SEP', ticker=['AAPL', 'KO','NKE', 'TSLA', 'DIS'], date={'gte':'2018-09-01', 'lte':'2018-12-31'}, paginate=True)"
   ]
  },
  {
   "cell_type": "code",
   "execution_count": 4,
   "metadata": {},
   "outputs": [
    {
     "data": {
      "text/html": [
       "<div>\n",
       "<style scoped>\n",
       "    .dataframe tbody tr th:only-of-type {\n",
       "        vertical-align: middle;\n",
       "    }\n",
       "\n",
       "    .dataframe tbody tr th {\n",
       "        vertical-align: top;\n",
       "    }\n",
       "\n",
       "    .dataframe thead th {\n",
       "        text-align: right;\n",
       "    }\n",
       "</style>\n",
       "<table border=\"1\" class=\"dataframe\">\n",
       "  <thead>\n",
       "    <tr style=\"text-align: right;\">\n",
       "      <th></th>\n",
       "      <th>ticker</th>\n",
       "      <th>date</th>\n",
       "      <th>open</th>\n",
       "      <th>high</th>\n",
       "      <th>low</th>\n",
       "      <th>close</th>\n",
       "      <th>volume</th>\n",
       "      <th>dividends</th>\n",
       "      <th>closeunadj</th>\n",
       "      <th>lastupdated</th>\n",
       "    </tr>\n",
       "    <tr>\n",
       "      <th>None</th>\n",
       "      <th></th>\n",
       "      <th></th>\n",
       "      <th></th>\n",
       "      <th></th>\n",
       "      <th></th>\n",
       "      <th></th>\n",
       "      <th></th>\n",
       "      <th></th>\n",
       "      <th></th>\n",
       "      <th></th>\n",
       "    </tr>\n",
       "  </thead>\n",
       "  <tbody>\n",
       "    <tr>\n",
       "      <th>0</th>\n",
       "      <td>TSLA</td>\n",
       "      <td>2018-12-31</td>\n",
       "      <td>337.79</td>\n",
       "      <td>339.210</td>\n",
       "      <td>325.260</td>\n",
       "      <td>332.80</td>\n",
       "      <td>6270960.0</td>\n",
       "      <td>0.0</td>\n",
       "      <td>332.80</td>\n",
       "      <td>2018-12-31</td>\n",
       "    </tr>\n",
       "    <tr>\n",
       "      <th>1</th>\n",
       "      <td>TSLA</td>\n",
       "      <td>2018-12-28</td>\n",
       "      <td>323.10</td>\n",
       "      <td>336.240</td>\n",
       "      <td>318.410</td>\n",
       "      <td>333.87</td>\n",
       "      <td>9888522.0</td>\n",
       "      <td>0.0</td>\n",
       "      <td>333.87</td>\n",
       "      <td>2018-12-28</td>\n",
       "    </tr>\n",
       "    <tr>\n",
       "      <th>2</th>\n",
       "      <td>TSLA</td>\n",
       "      <td>2018-12-27</td>\n",
       "      <td>319.84</td>\n",
       "      <td>322.172</td>\n",
       "      <td>301.500</td>\n",
       "      <td>316.13</td>\n",
       "      <td>8500894.0</td>\n",
       "      <td>0.0</td>\n",
       "      <td>316.13</td>\n",
       "      <td>2018-12-27</td>\n",
       "    </tr>\n",
       "    <tr>\n",
       "      <th>3</th>\n",
       "      <td>TSLA</td>\n",
       "      <td>2018-12-26</td>\n",
       "      <td>300.00</td>\n",
       "      <td>326.970</td>\n",
       "      <td>294.090</td>\n",
       "      <td>326.09</td>\n",
       "      <td>8023770.0</td>\n",
       "      <td>0.0</td>\n",
       "      <td>326.09</td>\n",
       "      <td>2018-12-26</td>\n",
       "    </tr>\n",
       "    <tr>\n",
       "      <th>4</th>\n",
       "      <td>TSLA</td>\n",
       "      <td>2018-12-24</td>\n",
       "      <td>313.50</td>\n",
       "      <td>314.500</td>\n",
       "      <td>295.195</td>\n",
       "      <td>295.39</td>\n",
       "      <td>5554619.0</td>\n",
       "      <td>0.0</td>\n",
       "      <td>295.39</td>\n",
       "      <td>2018-12-28</td>\n",
       "    </tr>\n",
       "  </tbody>\n",
       "</table>\n",
       "</div>"
      ],
      "text/plain": [
       "     ticker       date    open     high      low   close     volume  \\\n",
       "None                                                                  \n",
       "0      TSLA 2018-12-31  337.79  339.210  325.260  332.80  6270960.0   \n",
       "1      TSLA 2018-12-28  323.10  336.240  318.410  333.87  9888522.0   \n",
       "2      TSLA 2018-12-27  319.84  322.172  301.500  316.13  8500894.0   \n",
       "3      TSLA 2018-12-26  300.00  326.970  294.090  326.09  8023770.0   \n",
       "4      TSLA 2018-12-24  313.50  314.500  295.195  295.39  5554619.0   \n",
       "\n",
       "      dividends  closeunadj lastupdated  \n",
       "None                                     \n",
       "0           0.0      332.80  2018-12-31  \n",
       "1           0.0      333.87  2018-12-28  \n",
       "2           0.0      316.13  2018-12-27  \n",
       "3           0.0      326.09  2018-12-26  \n",
       "4           0.0      295.39  2018-12-28  "
      ]
     },
     "execution_count": 4,
     "metadata": {},
     "output_type": "execute_result"
    }
   ],
   "source": [
    "prices.head()"
   ]
  },
  {
   "cell_type": "code",
   "execution_count": 5,
   "metadata": {},
   "outputs": [
    {
     "data": {
      "text/html": [
       "<div>\n",
       "<style scoped>\n",
       "    .dataframe tbody tr th:only-of-type {\n",
       "        vertical-align: middle;\n",
       "    }\n",
       "\n",
       "    .dataframe tbody tr th {\n",
       "        vertical-align: top;\n",
       "    }\n",
       "\n",
       "    .dataframe thead th {\n",
       "        text-align: right;\n",
       "    }\n",
       "</style>\n",
       "<table border=\"1\" class=\"dataframe\">\n",
       "  <thead>\n",
       "    <tr style=\"text-align: right;\">\n",
       "      <th></th>\n",
       "      <th>ticker</th>\n",
       "      <th>date</th>\n",
       "      <th>open</th>\n",
       "      <th>high</th>\n",
       "      <th>low</th>\n",
       "      <th>close</th>\n",
       "      <th>volume</th>\n",
       "      <th>dividends</th>\n",
       "      <th>closeunadj</th>\n",
       "      <th>lastupdated</th>\n",
       "    </tr>\n",
       "    <tr>\n",
       "      <th>None</th>\n",
       "      <th></th>\n",
       "      <th></th>\n",
       "      <th></th>\n",
       "      <th></th>\n",
       "      <th></th>\n",
       "      <th></th>\n",
       "      <th></th>\n",
       "      <th></th>\n",
       "      <th></th>\n",
       "      <th></th>\n",
       "    </tr>\n",
       "  </thead>\n",
       "  <tbody>\n",
       "    <tr>\n",
       "      <th>405</th>\n",
       "      <td>AAPL</td>\n",
       "      <td>2018-09-10</td>\n",
       "      <td>220.95</td>\n",
       "      <td>221.85</td>\n",
       "      <td>216.47</td>\n",
       "      <td>218.33</td>\n",
       "      <td>38847431.0</td>\n",
       "      <td>0.0</td>\n",
       "      <td>218.33</td>\n",
       "      <td>2018-09-10</td>\n",
       "    </tr>\n",
       "    <tr>\n",
       "      <th>406</th>\n",
       "      <td>AAPL</td>\n",
       "      <td>2018-09-07</td>\n",
       "      <td>221.85</td>\n",
       "      <td>225.37</td>\n",
       "      <td>220.71</td>\n",
       "      <td>221.30</td>\n",
       "      <td>36490602.0</td>\n",
       "      <td>0.0</td>\n",
       "      <td>221.30</td>\n",
       "      <td>2018-09-07</td>\n",
       "    </tr>\n",
       "    <tr>\n",
       "      <th>407</th>\n",
       "      <td>AAPL</td>\n",
       "      <td>2018-09-06</td>\n",
       "      <td>226.23</td>\n",
       "      <td>227.35</td>\n",
       "      <td>221.30</td>\n",
       "      <td>223.10</td>\n",
       "      <td>33736571.0</td>\n",
       "      <td>0.0</td>\n",
       "      <td>223.10</td>\n",
       "      <td>2018-09-06</td>\n",
       "    </tr>\n",
       "    <tr>\n",
       "      <th>408</th>\n",
       "      <td>AAPL</td>\n",
       "      <td>2018-09-05</td>\n",
       "      <td>228.99</td>\n",
       "      <td>229.67</td>\n",
       "      <td>225.10</td>\n",
       "      <td>226.87</td>\n",
       "      <td>32257344.0</td>\n",
       "      <td>0.0</td>\n",
       "      <td>226.87</td>\n",
       "      <td>2018-09-05</td>\n",
       "    </tr>\n",
       "    <tr>\n",
       "      <th>409</th>\n",
       "      <td>AAPL</td>\n",
       "      <td>2018-09-04</td>\n",
       "      <td>228.41</td>\n",
       "      <td>229.18</td>\n",
       "      <td>226.63</td>\n",
       "      <td>228.36</td>\n",
       "      <td>26481813.0</td>\n",
       "      <td>0.0</td>\n",
       "      <td>228.36</td>\n",
       "      <td>2018-09-04</td>\n",
       "    </tr>\n",
       "  </tbody>\n",
       "</table>\n",
       "</div>"
      ],
      "text/plain": [
       "     ticker       date    open    high     low   close      volume  dividends  \\\n",
       "None                                                                            \n",
       "405    AAPL 2018-09-10  220.95  221.85  216.47  218.33  38847431.0        0.0   \n",
       "406    AAPL 2018-09-07  221.85  225.37  220.71  221.30  36490602.0        0.0   \n",
       "407    AAPL 2018-09-06  226.23  227.35  221.30  223.10  33736571.0        0.0   \n",
       "408    AAPL 2018-09-05  228.99  229.67  225.10  226.87  32257344.0        0.0   \n",
       "409    AAPL 2018-09-04  228.41  229.18  226.63  228.36  26481813.0        0.0   \n",
       "\n",
       "      closeunadj lastupdated  \n",
       "None                          \n",
       "405       218.33  2018-09-10  \n",
       "406       221.30  2018-09-07  \n",
       "407       223.10  2018-09-06  \n",
       "408       226.87  2018-09-05  \n",
       "409       228.36  2018-09-04  "
      ]
     },
     "execution_count": 5,
     "metadata": {},
     "output_type": "execute_result"
    }
   ],
   "source": [
    "prices.tail()"
   ]
  },
  {
   "cell_type": "code",
   "execution_count": 6,
   "metadata": {},
   "outputs": [
    {
     "data": {
      "text/html": [
       "<div>\n",
       "<style scoped>\n",
       "    .dataframe tbody tr th:only-of-type {\n",
       "        vertical-align: middle;\n",
       "    }\n",
       "\n",
       "    .dataframe tbody tr th {\n",
       "        vertical-align: top;\n",
       "    }\n",
       "\n",
       "    .dataframe thead th {\n",
       "        text-align: right;\n",
       "    }\n",
       "</style>\n",
       "<table border=\"1\" class=\"dataframe\">\n",
       "  <thead>\n",
       "    <tr style=\"text-align: right;\">\n",
       "      <th>ticker</th>\n",
       "      <th>AAPL</th>\n",
       "      <th>DIS</th>\n",
       "      <th>KO</th>\n",
       "      <th>NKE</th>\n",
       "      <th>TSLA</th>\n",
       "    </tr>\n",
       "    <tr>\n",
       "      <th>date</th>\n",
       "      <th></th>\n",
       "      <th></th>\n",
       "      <th></th>\n",
       "      <th></th>\n",
       "      <th></th>\n",
       "    </tr>\n",
       "  </thead>\n",
       "  <tbody>\n",
       "    <tr>\n",
       "      <th>2018-09-04</th>\n",
       "      <td>228.36</td>\n",
       "      <td>110.85</td>\n",
       "      <td>44.76</td>\n",
       "      <td>79.60</td>\n",
       "      <td>288.95</td>\n",
       "    </tr>\n",
       "    <tr>\n",
       "      <th>2018-09-05</th>\n",
       "      <td>226.87</td>\n",
       "      <td>109.87</td>\n",
       "      <td>45.38</td>\n",
       "      <td>79.92</td>\n",
       "      <td>280.74</td>\n",
       "    </tr>\n",
       "    <tr>\n",
       "      <th>2018-09-06</th>\n",
       "      <td>223.10</td>\n",
       "      <td>110.26</td>\n",
       "      <td>45.77</td>\n",
       "      <td>80.40</td>\n",
       "      <td>280.95</td>\n",
       "    </tr>\n",
       "    <tr>\n",
       "      <th>2018-09-07</th>\n",
       "      <td>221.30</td>\n",
       "      <td>110.97</td>\n",
       "      <td>45.72</td>\n",
       "      <td>80.30</td>\n",
       "      <td>263.24</td>\n",
       "    </tr>\n",
       "    <tr>\n",
       "      <th>2018-09-10</th>\n",
       "      <td>218.33</td>\n",
       "      <td>110.68</td>\n",
       "      <td>46.06</td>\n",
       "      <td>82.10</td>\n",
       "      <td>285.50</td>\n",
       "    </tr>\n",
       "  </tbody>\n",
       "</table>\n",
       "</div>"
      ],
      "text/plain": [
       "ticker        AAPL     DIS     KO    NKE    TSLA\n",
       "date                                            \n",
       "2018-09-04  228.36  110.85  44.76  79.60  288.95\n",
       "2018-09-05  226.87  109.87  45.38  79.92  280.74\n",
       "2018-09-06  223.10  110.26  45.77  80.40  280.95\n",
       "2018-09-07  221.30  110.97  45.72  80.30  263.24\n",
       "2018-09-10  218.33  110.68  46.06  82.10  285.50"
      ]
     },
     "execution_count": 6,
     "metadata": {},
     "output_type": "execute_result"
    }
   ],
   "source": [
    "pivoted = prices.pivot(index='date', columns='ticker', values='close')\n",
    "pivoted.head()"
   ]
  },
  {
   "cell_type": "code",
   "execution_count": 7,
   "metadata": {},
   "outputs": [
    {
     "data": {
      "text/plain": [
       "(82, 5)"
      ]
     },
     "execution_count": 7,
     "metadata": {},
     "output_type": "execute_result"
    }
   ],
   "source": [
    "pivoted.shape"
   ]
  },
  {
   "cell_type": "code",
   "execution_count": 51,
   "metadata": {},
   "outputs": [
    {
     "data": {
      "text/html": [
       "<div>\n",
       "<style scoped>\n",
       "    .dataframe tbody tr th:only-of-type {\n",
       "        vertical-align: middle;\n",
       "    }\n",
       "\n",
       "    .dataframe tbody tr th {\n",
       "        vertical-align: top;\n",
       "    }\n",
       "\n",
       "    .dataframe thead th {\n",
       "        text-align: right;\n",
       "    }\n",
       "</style>\n",
       "<table border=\"1\" class=\"dataframe\">\n",
       "  <thead>\n",
       "    <tr style=\"text-align: right;\">\n",
       "      <th>ticker</th>\n",
       "      <th>AAPL</th>\n",
       "      <th>DIS</th>\n",
       "      <th>KO</th>\n",
       "      <th>NKE</th>\n",
       "      <th>TSLA</th>\n",
       "    </tr>\n",
       "    <tr>\n",
       "      <th>date</th>\n",
       "      <th></th>\n",
       "      <th></th>\n",
       "      <th></th>\n",
       "      <th></th>\n",
       "      <th></th>\n",
       "    </tr>\n",
       "  </thead>\n",
       "  <tbody>\n",
       "    <tr>\n",
       "      <th>2018-09-04</th>\n",
       "      <td>NaN</td>\n",
       "      <td>NaN</td>\n",
       "      <td>NaN</td>\n",
       "      <td>NaN</td>\n",
       "      <td>NaN</td>\n",
       "    </tr>\n",
       "    <tr>\n",
       "      <th>2018-09-05</th>\n",
       "      <td>-0.006525</td>\n",
       "      <td>-0.008841</td>\n",
       "      <td>0.013852</td>\n",
       "      <td>0.004020</td>\n",
       "      <td>-0.028413</td>\n",
       "    </tr>\n",
       "    <tr>\n",
       "      <th>2018-09-06</th>\n",
       "      <td>-0.016617</td>\n",
       "      <td>0.003550</td>\n",
       "      <td>0.008594</td>\n",
       "      <td>0.006006</td>\n",
       "      <td>0.000748</td>\n",
       "    </tr>\n",
       "    <tr>\n",
       "      <th>2018-09-07</th>\n",
       "      <td>-0.008068</td>\n",
       "      <td>0.006439</td>\n",
       "      <td>-0.001092</td>\n",
       "      <td>-0.001244</td>\n",
       "      <td>-0.063036</td>\n",
       "    </tr>\n",
       "    <tr>\n",
       "      <th>2018-09-10</th>\n",
       "      <td>-0.013421</td>\n",
       "      <td>-0.002613</td>\n",
       "      <td>0.007437</td>\n",
       "      <td>0.022416</td>\n",
       "      <td>0.084562</td>\n",
       "    </tr>\n",
       "    <tr>\n",
       "      <th>...</th>\n",
       "      <td>...</td>\n",
       "      <td>...</td>\n",
       "      <td>...</td>\n",
       "      <td>...</td>\n",
       "      <td>...</td>\n",
       "    </tr>\n",
       "    <tr>\n",
       "      <th>2018-12-24</th>\n",
       "      <td>-0.025874</td>\n",
       "      <td>-0.037133</td>\n",
       "      <td>-0.033845</td>\n",
       "      <td>-0.059002</td>\n",
       "      <td>-0.076242</td>\n",
       "    </tr>\n",
       "    <tr>\n",
       "      <th>2018-12-26</th>\n",
       "      <td>0.070422</td>\n",
       "      <td>0.054609</td>\n",
       "      <td>0.021323</td>\n",
       "      <td>0.072100</td>\n",
       "      <td>0.103930</td>\n",
       "    </tr>\n",
       "    <tr>\n",
       "      <th>2018-12-27</th>\n",
       "      <td>-0.006490</td>\n",
       "      <td>0.006520</td>\n",
       "      <td>0.012569</td>\n",
       "      <td>0.009040</td>\n",
       "      <td>-0.030544</td>\n",
       "    </tr>\n",
       "    <tr>\n",
       "      <th>2018-12-28</th>\n",
       "      <td>0.000512</td>\n",
       "      <td>0.007323</td>\n",
       "      <td>-0.006943</td>\n",
       "      <td>-0.004479</td>\n",
       "      <td>0.056116</td>\n",
       "    </tr>\n",
       "    <tr>\n",
       "      <th>2018-12-31</th>\n",
       "      <td>0.009665</td>\n",
       "      <td>0.021901</td>\n",
       "      <td>0.003178</td>\n",
       "      <td>0.010908</td>\n",
       "      <td>-0.003205</td>\n",
       "    </tr>\n",
       "  </tbody>\n",
       "</table>\n",
       "<p>82 rows × 5 columns</p>\n",
       "</div>"
      ],
      "text/plain": [
       "ticker          AAPL       DIS        KO       NKE      TSLA\n",
       "date                                                        \n",
       "2018-09-04       NaN       NaN       NaN       NaN       NaN\n",
       "2018-09-05 -0.006525 -0.008841  0.013852  0.004020 -0.028413\n",
       "2018-09-06 -0.016617  0.003550  0.008594  0.006006  0.000748\n",
       "2018-09-07 -0.008068  0.006439 -0.001092 -0.001244 -0.063036\n",
       "2018-09-10 -0.013421 -0.002613  0.007437  0.022416  0.084562\n",
       "...              ...       ...       ...       ...       ...\n",
       "2018-12-24 -0.025874 -0.037133 -0.033845 -0.059002 -0.076242\n",
       "2018-12-26  0.070422  0.054609  0.021323  0.072100  0.103930\n",
       "2018-12-27 -0.006490  0.006520  0.012569  0.009040 -0.030544\n",
       "2018-12-28  0.000512  0.007323 -0.006943 -0.004479  0.056116\n",
       "2018-12-31  0.009665  0.021901  0.003178  0.010908 -0.003205\n",
       "\n",
       "[82 rows x 5 columns]"
      ]
     },
     "execution_count": 51,
     "metadata": {},
     "output_type": "execute_result"
    }
   ],
   "source": [
    "df = pivoted.pct_change()\n",
    "df"
   ]
  },
  {
   "cell_type": "markdown",
   "metadata": {},
   "source": [
    "# Variance "
   ]
  },
  {
   "cell_type": "markdown",
   "metadata": {},
   "source": [
    "Variance is a measure of volatility because it measures how much a stock tends to deviate from its mean. \n",
    "The higher the variance, the more wildly the stock fluctuates. Accordingly, the higher the variance, the riskier the stock."
   ]
  },
  {
   "cell_type": "code",
   "execution_count": null,
   "metadata": {},
   "outputs": [],
   "source": [
    "aapl = pivoted['AAPL']\n",
    "aapl"
   ]
  },
  {
   "cell_type": "code",
   "execution_count": 10,
   "metadata": {},
   "outputs": [
    {
     "data": {
      "text/plain": [
       "date\n",
       "2018-09-04         NaN\n",
       "2018-09-05   -0.006525\n",
       "2018-09-06   -0.016617\n",
       "2018-09-07   -0.008068\n",
       "2018-09-10   -0.013421\n",
       "                ...   \n",
       "2018-12-24   -0.025874\n",
       "2018-12-26    0.070422\n",
       "2018-12-27   -0.006490\n",
       "2018-12-28    0.000512\n",
       "2018-12-31    0.009665\n",
       "Name: AAPL, Length: 82, dtype: float64"
      ]
     },
     "execution_count": 10,
     "metadata": {},
     "output_type": "execute_result"
    }
   ],
   "source": [
    "# Get the percentage change from the previous trading day\n",
    "aapl_pct = pivoted['AAPL'].pct_change()\n",
    "aapl_pct"
   ]
  },
  {
   "cell_type": "code",
   "execution_count": 15,
   "metadata": {},
   "outputs": [
    {
     "data": {
      "text/plain": [
       "date\n",
       "2018-09-04         NaN\n",
       "2018-09-05   -0.006546\n",
       "2018-09-06   -0.016757\n",
       "2018-09-07   -0.008101\n",
       "2018-09-10   -0.013512\n",
       "                ...   \n",
       "2018-12-24   -0.026215\n",
       "2018-12-26    0.068053\n",
       "2018-12-27   -0.006511\n",
       "2018-12-28    0.000512\n",
       "2018-12-31    0.009619\n",
       "Name: AAPL, Length: 82, dtype: float64"
      ]
     },
     "execution_count": 15,
     "metadata": {},
     "output_type": "execute_result"
    }
   ],
   "source": [
    "# Create logrithamic dataframe\n",
    "aapl_log_chg = pivoted['AAPL'].pct_change().apply(lambda x: np.log(1+x))\n",
    "aapl_log_chg"
   ]
  },
  {
   "cell_type": "code",
   "execution_count": 18,
   "metadata": {},
   "outputs": [
    {
     "data": {
      "text/plain": [
       "-0.34712076321399266"
      ]
     },
     "execution_count": 18,
     "metadata": {},
     "output_type": "execute_result"
    }
   ],
   "source": [
    "# Add up the stock percentage change\n",
    "aapl_pct.sum()"
   ]
  },
  {
   "cell_type": "code",
   "execution_count": 16,
   "metadata": {},
   "outputs": [
    {
     "data": {
      "text/plain": [
       "-0.3699752231262134"
      ]
     },
     "execution_count": 16,
     "metadata": {},
     "output_type": "execute_result"
    }
   ],
   "source": [
    "#Add up the logarithmic percentage change \n",
    "aapl_log_chg.sum()"
   ]
  },
  {
   "cell_type": "code",
   "execution_count": 23,
   "metadata": {},
   "outputs": [
    {
     "data": {
      "text/plain": [
       "81"
      ]
     },
     "execution_count": 23,
     "metadata": {},
     "output_type": "execute_result"
    }
   ],
   "source": [
    "aapl.count()"
   ]
  },
  {
   "cell_type": "code",
   "execution_count": 20,
   "metadata": {},
   "outputs": [
    {
     "data": {
      "text/plain": [
       "-0.004285441521160403"
      ]
     },
     "execution_count": 20,
     "metadata": {},
     "output_type": "execute_result"
    }
   ],
   "source": [
    "# Mean of Apple using sum of Apple's percentage change divided by trading days, 81.\n",
    "mean_aapl = aapl_pct.sum()/aapl.count()\n",
    "mean_aapl"
   ]
  },
  {
   "cell_type": "code",
   "execution_count": 25,
   "metadata": {},
   "outputs": [
    {
     "data": {
      "text/plain": [
       "-0.004567595347237202"
      ]
     },
     "execution_count": 25,
     "metadata": {},
     "output_type": "execute_result"
    }
   ],
   "source": [
    "# Mean of Apple with the sum of logarithmic percent change \n",
    "mean_aapl_log = aapl_log_chg.sum()/aapl.count()\n",
    "mean_aapl_log"
   ]
  },
  {
   "cell_type": "code",
   "execution_count": 28,
   "metadata": {},
   "outputs": [
    {
     "data": {
      "text/plain": [
       "-0.004285441521160403"
      ]
     },
     "execution_count": 28,
     "metadata": {},
     "output_type": "execute_result"
    }
   ],
   "source": [
    "# Short way to get the average(mean) of Apple's daily stock percentage change\n",
    "aapl_pct.mean()"
   ]
  },
  {
   "cell_type": "code",
   "execution_count": 29,
   "metadata": {},
   "outputs": [
    {
     "data": {
      "text/plain": [
       "-0.004567595347237202"
      ]
     },
     "execution_count": 29,
     "metadata": {},
     "output_type": "execute_result"
    }
   ],
   "source": [
    "# Short way to get the average(mean) of Apple's daily stock logarithmic percentage change\n",
    "aapl_log_chg.mean()"
   ]
  },
  {
   "cell_type": "code",
   "execution_count": 43,
   "metadata": {},
   "outputs": [
    {
     "data": {
      "text/plain": [
       "date\n",
       "2018-09-04         NaN\n",
       "2018-09-05    0.000004\n",
       "2018-09-06    0.000149\n",
       "2018-09-07    0.000012\n",
       "2018-09-10    0.000080\n",
       "                ...   \n",
       "2018-12-24    0.000469\n",
       "2018-12-26    0.005274\n",
       "2018-12-27    0.000004\n",
       "2018-12-28    0.000026\n",
       "2018-12-31    0.000201\n",
       "Name: AAPL, Length: 82, dtype: float64"
      ]
     },
     "execution_count": 43,
     "metadata": {},
     "output_type": "execute_result"
    }
   ],
   "source": [
    "#square deviation to preserve deviation and prevent 0\n",
    "sqd_aapl = aapl_log_chg.apply(lambda x: (x-mean_aapl_log)**2)\n",
    "sqd_aapl"
   ]
  },
  {
   "cell_type": "code",
   "execution_count": 44,
   "metadata": {},
   "outputs": [
    {
     "data": {
      "text/plain": [
       "0.044229969504156696"
      ]
     },
     "execution_count": 44,
     "metadata": {},
     "output_type": "execute_result"
    }
   ],
   "source": [
    "#Sum up squared deviation of Apple stock\n",
    "ssqd_aapl = sqd_aapl.sum()\n",
    "ssqd_aapl"
   ]
  },
  {
   "cell_type": "code",
   "execution_count": 45,
   "metadata": {},
   "outputs": [
    {
     "data": {
      "text/plain": [
       "0.0005528746188019587"
      ]
     },
     "execution_count": 45,
     "metadata": {},
     "output_type": "execute_result"
    }
   ],
   "source": [
    "var_aapl = ssqd_aapl/(aapl.count()-1)\n",
    "var_aapl"
   ]
  },
  {
   "cell_type": "code",
   "execution_count": 46,
   "metadata": {
    "scrolled": true
   },
   "outputs": [
    {
     "data": {
      "text/plain": [
       "0.0005528746188019586"
      ]
     },
     "execution_count": 46,
     "metadata": {},
     "output_type": "execute_result"
    }
   ],
   "source": [
    "aapl.var()"
   ]
  },
  {
   "cell_type": "code",
   "execution_count": 52,
   "metadata": {},
   "outputs": [
    {
     "data": {
      "text/plain": [
       "ticker\n",
       "AAPL    0.000548\n",
       "DIS     0.000242\n",
       "KO      0.000113\n",
       "NKE     0.000484\n",
       "TSLA    0.001983\n",
       "dtype: float64"
      ]
     },
     "execution_count": 52,
     "metadata": {},
     "output_type": "execute_result"
    }
   ],
   "source": [
    "df.var()"
   ]
  },
  {
   "cell_type": "markdown",
   "metadata": {},
   "source": [
    "# Standard Deviation"
   ]
  },
  {
   "cell_type": "markdown",
   "metadata": {},
   "source": [
    "# Determining stock volatility in Q4 2018"
   ]
  },
  {
   "cell_type": "code",
   "execution_count": null,
   "metadata": {},
   "outputs": [],
   "source": [
    "daily_sd = np.sqrt(var_aapl)\n",
    "daily_sd"
   ]
  },
  {
   "cell_type": "code",
   "execution_count": null,
   "metadata": {},
   "outputs": [],
   "source": [
    "quarter_sd = daily_sd*np.sqrt(82)\n",
    "quarter_sd"
   ]
  },
  {
   "cell_type": "code",
   "execution_count": null,
   "metadata": {},
   "outputs": [],
   "source": [
    "daily_sd_tickers = pivoted.pct_change().apply(lambda x: np.log(1+x)).std()\n",
    "daily_sd_tickers"
   ]
  },
  {
   "cell_type": "code",
   "execution_count": null,
   "metadata": {},
   "outputs": [],
   "source": [
    "quarter_sd_tickers = pivoted.pct_change().apply(lambda x: np.log(1+x)).std().apply(lambda x: x*np.sqrt(82))\n",
    "quarter_sd_tickers"
   ]
  },
  {
   "cell_type": "code",
   "execution_count": null,
   "metadata": {},
   "outputs": [],
   "source": [
    "bar = pivoted.pct_change().apply(lambda x: np.log(1+x)).std().apply(lambda x: x*np.sqrt(62.5)).plot(kind='bar')\n",
    "bar"
   ]
  },
  {
   "cell_type": "markdown",
   "metadata": {},
   "source": [
    "# Covariance "
   ]
  },
  {
   "cell_type": "markdown",
   "metadata": {},
   "source": [
    "# Measurement of a relationship between two variables"
   ]
  },
  {
   "cell_type": "code",
   "execution_count": null,
   "metadata": {},
   "outputs": [],
   "source": [
    "aapl_tsla_prices = quandl.get_table('SHARADAR/SEP', ticker=['AAPL', 'TSLA'], date={'gte':'2018-09-01', 'lte':'2018-12-31'}, paginate=True)\n",
    "aapl_tsla_prices.head()"
   ]
  },
  {
   "cell_type": "code",
   "execution_count": null,
   "metadata": {},
   "outputs": [],
   "source": [
    "aapl_tsla_pivoted = aapl_tsla_prices.pivot(index='date', columns='ticker', values='close')\n",
    "aapl_tsla_pivoted.head()"
   ]
  },
  {
   "cell_type": "code",
   "execution_count": null,
   "metadata": {},
   "outputs": [],
   "source": [
    "df = aapl_tsla_pivoted.pct_change()\n",
    "df.head()"
   ]
  },
  {
   "cell_type": "code",
   "execution_count": null,
   "metadata": {},
   "outputs": [],
   "source": [
    "mean_aapl = df['AAPL'].mean()\n",
    "mean_aapl"
   ]
  },
  {
   "cell_type": "code",
   "execution_count": null,
   "metadata": {},
   "outputs": [],
   "source": [
    "mean_tsla = df['TSLA'].mean()\n",
    "mean_tsla"
   ]
  },
  {
   "cell_type": "code",
   "execution_count": null,
   "metadata": {},
   "outputs": [],
   "source": [
    "df['DEV_AAPL'] = df['AAPL'].apply(lambda x: x-mean_aapl)\n",
    "df.head()"
   ]
  },
  {
   "cell_type": "code",
   "execution_count": null,
   "metadata": {},
   "outputs": [],
   "source": [
    "df['DEV_TSLA'] = df['TSLA'].apply(lambda x: x-mean_tsla)\n",
    "df.head()"
   ]
  },
  {
   "cell_type": "code",
   "execution_count": null,
   "metadata": {},
   "outputs": [],
   "source": [
    "df['CROSS_PRODUCT'] = df['DEV_AAPL']*df['DEV_TSLA']\n",
    "df.head()"
   ]
  },
  {
   "cell_type": "code",
   "execution_count": null,
   "metadata": {},
   "outputs": [],
   "source": [
    "df['CROSS_PRODUCT'].sum()"
   ]
  },
  {
   "cell_type": "code",
   "execution_count": null,
   "metadata": {},
   "outputs": [],
   "source": [
    "df['CROSS_PRODUCT'].sum()/(df['CROSS_PRODUCT'].count()-1)"
   ]
  },
  {
   "cell_type": "code",
   "execution_count": null,
   "metadata": {},
   "outputs": [],
   "source": [
    "df['AAPL'].cov(df['TSLA'])"
   ]
  },
  {
   "cell_type": "markdown",
   "metadata": {},
   "source": [
    "# Correlation"
   ]
  },
  {
   "cell_type": "code",
   "execution_count": null,
   "metadata": {},
   "outputs": [],
   "source": [
    "var_tsla = df['TSLA'].var()\n",
    "var_tsla"
   ]
  },
  {
   "cell_type": "code",
   "execution_count": null,
   "metadata": {},
   "outputs": [],
   "source": [
    "var_aapl = df['AAPL'].var()\n",
    "var_aapl"
   ]
  },
  {
   "cell_type": "code",
   "execution_count": null,
   "metadata": {},
   "outputs": [],
   "source": [
    "sd_tsla = df['TSLA'].std()\n",
    "sd_tsla"
   ]
  },
  {
   "cell_type": "code",
   "execution_count": null,
   "metadata": {},
   "outputs": [],
   "source": [
    "sd_aapl = df['AAPL'].std()\n",
    "sd_aapl"
   ]
  },
  {
   "cell_type": "code",
   "execution_count": null,
   "metadata": {},
   "outputs": [],
   "source": [
    "df['TSLA'].cov(df['AAPL'])"
   ]
  },
  {
   "cell_type": "code",
   "execution_count": null,
   "metadata": {},
   "outputs": [],
   "source": [
    "# Correlation Coefficient equation\n",
    "\n",
    "df['TSLA'].cov(df['AAPL'])/(sd_tsla*sd_aapl)"
   ]
  },
  {
   "cell_type": "code",
   "execution_count": null,
   "metadata": {},
   "outputs": [],
   "source": [
    "df['TSLA'].corr(df['AAPL'])"
   ]
  },
  {
   "cell_type": "code",
   "execution_count": null,
   "metadata": {},
   "outputs": [],
   "source": [
    "df = pivoted.pct_change().apply(lambda x: np.log(1+x))\n",
    "df.head()"
   ]
  },
  {
   "cell_type": "code",
   "execution_count": null,
   "metadata": {},
   "outputs": [],
   "source": [
    "#Correlation between Disney and Apple\n",
    "df['DIS'].corr(df['AAPL'])"
   ]
  },
  {
   "cell_type": "code",
   "execution_count": null,
   "metadata": {},
   "outputs": [],
   "source": [
    "df.corr()"
   ]
  },
  {
   "cell_type": "markdown",
   "metadata": {},
   "source": [
    "# Covariance & Correlation Matrix"
   ]
  },
  {
   "cell_type": "code",
   "execution_count": null,
   "metadata": {},
   "outputs": [],
   "source": [
    "all_prices = quandl.get_table('SHARADAR/SEP', date={'gte': '2017-01-01', 'lte': '2019-12-31'}, paginate=True)\n",
    "all_prices.shape"
   ]
  },
  {
   "cell_type": "code",
   "execution_count": null,
   "metadata": {},
   "outputs": [],
   "source": [
    "all_prices.info()"
   ]
  },
  {
   "cell_type": "code",
   "execution_count": null,
   "metadata": {},
   "outputs": [],
   "source": [
    "df = all_prices.pivot(index='date', columns='ticker', values='close').pct_change().apply(lambda x: np.log(1+x))"
   ]
  },
  {
   "cell_type": "code",
   "execution_count": null,
   "metadata": {},
   "outputs": [],
   "source": [
    "df.cov()"
   ]
  },
  {
   "cell_type": "code",
   "execution_count": null,
   "metadata": {},
   "outputs": [],
   "source": [
    "df.corr()"
   ]
  },
  {
   "cell_type": "code",
   "execution_count": null,
   "metadata": {},
   "outputs": [],
   "source": [
    "import matplotlib.pyplot as plt"
   ]
  },
  {
   "cell_type": "code",
   "execution_count": null,
   "metadata": {},
   "outputs": [],
   "source": [
    "df.corr()['DIS'].plot(kind='bar')"
   ]
  },
  {
   "cell_type": "code",
   "execution_count": null,
   "metadata": {},
   "outputs": [],
   "source": []
  }
 ],
 "metadata": {
  "kernelspec": {
   "display_name": "Python 3",
   "language": "python",
   "name": "python3"
  },
  "language_info": {
   "codemirror_mode": {
    "name": "ipython",
    "version": 3
   },
   "file_extension": ".py",
   "mimetype": "text/x-python",
   "name": "python",
   "nbconvert_exporter": "python",
   "pygments_lexer": "ipython3",
   "version": "3.6.4"
  }
 },
 "nbformat": 4,
 "nbformat_minor": 2
}
